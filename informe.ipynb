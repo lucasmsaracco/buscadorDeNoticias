{
 "cells": [
  {
   "cell_type": "markdown",
   "metadata": {},
   "source": [
    "# <center> Informe Nº2 </center>\n",
    "## <center> Estructura de Datos </center>\n",
    "\n",
    "\n",
    "Integrantes: Uriel Sanchez, Lucas Saracco, Felipe Miranda"
   ]
  },
  {
   "cell_type": "markdown",
   "metadata": {},
   "source": [
    "<b>Trabajo Practico: Indices Invertidos y Buscador</b>"
   ]
  },
  {
   "cell_type": "markdown",
   "metadata": {},
   "source": [
    "En este proyecto crearemos indices invertidos a partir de noticias en español recolectadas de la web, y para lograr esto de manera eficaz usamos el algoritmo BSBI, el cual se encarga de procesar la informacion en bloques, guardarla, y luego mergearla en un gran indice final."
   ]
  },
  {
   "cell_type": "markdown",
   "metadata": {},
   "source": [
    "Para empezar, primero tuvimos que crear la clase Recolector, de la cual podemos destacar 2 metodos. El primero de esta clase se encarga de crear las carpetas correspondientes a cada bloque a fin de tener una buena organizacion de la informacion: "
   ]
  },
  {
   "cell_type": "code",
   "execution_count": 3,
   "metadata": {},
   "outputs": [],
   "source": [
    "def crearCarpetas(self):\n",
    "    self.ig = configparser.ConfigParser()\n",
    "    self.archivo = self.ig.read(\"config.ini\")\n",
    "    self.diarios = self.ig.sections()\n",
    "    for diario in self.diarios:\n",
    "        os.mkdir(\"out/\"+diario)\n",
    "            \n",
    "        for seccion in self.ig[diario]:\n",
    "            if seccion != \"query_interval\" and seccion != \"tmp\" and seccion != \"output\" and seccion != \"url_base\":\n",
    "\n",
    "                os.mkdir(\"out/\"+diario+\"/\"+seccion)\n",
    "                self.root = Element(seccion)\n",
    "                self.tree = ElementTree(self.root)\n",
    "                self.tree.write(\"out/\"+diario+\"/\"+seccion+\"/\"+seccion+\".xml\")\n",
    "    print(\"Se creó exitosamente!\")"
   ]
  },
  {
   "cell_type": "markdown",
   "metadata": {},
   "source": [
    "Y luego se encuentra el metodo que se encarga de descargar las noticias y asignarlas a su correspondiente carpeta y seccion:"
   ]
  },
  {
   "cell_type": "code",
   "execution_count": 5,
   "metadata": {},
   "outputs": [],
   "source": [
    "    def descargarNoticias(self):\n",
    "\n",
    "        self.ig = configparser.ConfigParser()\n",
    "        self.archivo = self.ig.read(\"config.ini\")\n",
    "        self.diarios = self.ig.sections()\n",
    "\n",
    "        for diario in self.diarios:\n",
    "            for seccion in self.ig[diario]:\n",
    "                if seccion != \"query_interval\" and seccion != \"tmp\" and seccion != \"output\" and seccion != \"url_base\":\n",
    "                    try:\n",
    "                        print(diario)\n",
    "                        print(seccion)\n",
    "                        self.url_final =self.ig[diario].get(seccion)  \n",
    "                        self.url_base = self.ig[diario].get(\"url_base\")\n",
    "                        self.link = self.url_base + self.url_final\n",
    "                        print(self.link)\n",
    "                        self.response = urllib.request.urlopen(self.link)\n",
    "                        self.data = self.response.read()     \n",
    "                        self.texto = self.data.decode('utf-8')\n",
    "                        self.rootActual = ET.fromstring(self.texto)  \n",
    "                        self.treeToSave = ET.parse(\"out/\"+diario+\"/\"+seccion+\"/\"+seccion+\".xml\")\n",
    "                        self.rootToSave = self.treeToSave.getroot()\n",
    "                    except Exception:\n",
    "                        print(\"No se puedo descargar una noticia\")\n",
    "\n",
    "                    for item in self.rootActual[0].findall(\"item\"):\n",
    "\n",
    "                        self.titulo = item.find(\"title\").text\n",
    "                        self.pubDate = item.find(\"pubDate\").text\n",
    "\n",
    "                        if(self.noSeGuardo(self.rootToSave,self.titulo,self.pubDate,\"pubDate\",seccion)):\n",
    "                            \n",
    "                            self.rootToSave.append(item)\n",
    "                            print(\"item agregado en DIARIO:\",diario,\"  SECCION: \",seccion)\n",
    "                            self.treeToSave.write(\"out/\"+diario+\"/\"+seccion+\"/\"+seccion+\".xml\")\n",
    "                        "
   ]
  },
  {
   "cell_type": "markdown",
   "metadata": {},
   "source": [
    " Luego esta la clase FuncionesBSBI la cual se encarga de agrupar las principales funciones para el correcto funcionamiento del indice invertido y todo lo que este requiere. Esta clase presenta metodos como el stemmeo de palabras, con el objetivo de tener una lista de palabras utiles para una busqueda, descartando aquellas que sean muy generales, como pronombres, articulos y algunos adverbios:"
   ]
  },
  {
   "cell_type": "code",
   "execution_count": 6,
   "metadata": {},
   "outputs": [],
   "source": [
    "    def stemmear(self,diccionarioDeID):\n",
    "        self.palabras_minuscula = []\n",
    "        self.palabras_stemmeadas = []\n",
    "        for key in diccionarioDeID:\n",
    "            self.palabras = re.findall(r\"[A-z]+[áéíóú]?[A-z]*\", diccionarioDeID[key].lower())\n",
    "        \n",
    "            for palabra in self.palabras:\n",
    "                self.palabras_minuscula.append(palabra)\n",
    "        self.filtered_words = [word for word in self.palabras_minuscula if word not in stopwords.words('spanish') and not len(word) < 4]\n",
    "        \n",
    "        for word in self.filtered_words:\n",
    "            if self.stemmer.stem(word) in self.palabras_stemmeadas:\n",
    "                pass\n",
    "            else:\n",
    "                self.palabras_stemmeadas.append(self.stemmer.stem(word))  \n",
    "        return(self.palabras_stemmeadas)"
   ]
  },
  {
   "cell_type": "markdown",
   "metadata": {},
   "source": [
    "Esta clase tambien presenta los metodos claves para llevar a cabo el algoritmo BSBI, como el que se encarga de transformar los documentos en DOCID->NOTICIA o transfromar los terminos en TERMID->TERM, entre otras cosas. Pero principalmente se encuentran los tres metodos centrales para poder tener el indice invertido deseado:"
   ]
  },
  {
   "cell_type": "code",
   "execution_count": 7,
   "metadata": {},
   "outputs": [],
   "source": [
    "    #GENERA DICCIONARIO TERMID->DOCID\n",
    "    def invertirDiccionario(self, diccionarioDeTermID, diccionarioDeDocID):\n",
    "\n",
    "        self.dicInv={}\n",
    "        for key in diccionarioDeDocID:\n",
    "            self.texto = self.stemmer.stem(diccionarioDeDocID[key].replace('\"',\"\").lower())\n",
    "            for numeroPalabra in diccionarioDeTermID:\n",
    "                if diccionarioDeTermID[numeroPalabra] in self.texto:\n",
    "                    if numeroPalabra not in self.dicInv.keys():\n",
    "                        self.dicInv[numeroPalabra]=[key]\n",
    "                    else:\n",
    "                        self.dicInv[numeroPalabra].append(key)\n",
    "        return(self.dicInv)"
   ]
  },
  {
   "cell_type": "code",
   "execution_count": 8,
   "metadata": {},
   "outputs": [],
   "source": [
    "    #MERGEA DICICONARIO TERMID->DOCID\n",
    "    def mergearListaDeDiccionarios(self,diccionarioCompleto, dicTermID):\n",
    "        self.diccionarioDePrueba = {}\n",
    "        self.diccionarioNuevo = {}\n",
    "        for key,value in dicTermID.items():\n",
    "            if value not in self.diccionarioDePrueba:\n",
    "                self.diccionarioDePrueba[value] = [key]\n",
    "            else:\n",
    "                self.diccionarioDePrueba[value].append(key)\n",
    "        for key in self.diccionarioDePrueba:\n",
    "            self.suma = []\n",
    "            if len(self.diccionarioDePrueba[key]) > 1:\n",
    "                for position in self.diccionarioDePrueba[key]:\n",
    "                    if position in diccionarioCompleto.keys():\n",
    "                        self.suma = self.suma + diccionarioCompleto[position]\n",
    "                if len(self.suma)!=0:        \n",
    "                    self.diccionarioNuevo[self.diccionarioDePrueba[key][0]] = self.suma\n",
    "            else:\n",
    "                if self.diccionarioDePrueba[key][0] in diccionarioCompleto.keys():\n",
    "                    self.diccionarioNuevo[self.diccionarioDePrueba[key][0]]= diccionarioCompleto[self.diccionarioDePrueba[key][0]]                \n",
    "        return(self.diccionarioNuevo)    \n"
   ]
  },
  {
   "cell_type": "code",
   "execution_count": 9,
   "metadata": {},
   "outputs": [],
   "source": [
    "    # METODO QUE CONVIERTE EL DICCIONARIO TERMID-DOCID\n",
    "    def generarIntArray_y_DicConTupla(self,dic):\n",
    "\n",
    "            self.dicTemporal = {}\n",
    "            self.dicIntArray = []\n",
    "            self.posicionInicial = 0\n",
    "            self.cantidadDeDocs = 0\n",
    "            self.posicionActual = 0\n",
    "\n",
    "            for termId in dic.keys():\n",
    "\n",
    "                self.dicIntArray.append(termId)\n",
    "                self.posicionActual = self.posicionActual +1\n",
    "\n",
    "                for docId in dic.get(termId):\n",
    "\n",
    "                    self.dicIntArray.append(docId)\n",
    "\n",
    "                    self.cantidadDeDocs = self.cantidadDeDocs + 1\n",
    "                    self.posicionActual = self.posicionActual + 1\n",
    "\n",
    "                self.long_en_bytes = sys.getsizeof(self.cantidadDeDocs)\n",
    "\n",
    "                self.dicTemporal.setdefault(termId,(self.posicionInicial,self.cantidadDeDocs,self.long_en_bytes))  \n",
    "\n",
    "                self.posicionInicial = self.posicionActual\n",
    "                self.cantidadDeDocs=0\n",
    "\n",
    "            return (self.dicIntArray,self.dicTemporal)"
   ]
  },
  {
   "cell_type": "markdown",
   "metadata": {},
   "source": [
    "El metodo mainIndiceInvertido() se encarga de ejecutar todos estos metodos a fin de tener un indice invertido mergeado con todos los bloques juntos, para usar en memoria. A fin tener una mayor comodidad a la hora de, por ejemplo, mergear los diccionarios, se opto por guardar un solo diccionario TERMID->TERM y DOCID->NOTICIA que contenga la informacion de todos los bloques juntos"
   ]
  },
  {
   "cell_type": "markdown",
   "metadata": {},
   "source": [
    "Esta clase tambien presenta el metodo central para llevar a cabo la busqueda de noticias:"
   ]
  },
  {
   "cell_type": "code",
   "execution_count": 10,
   "metadata": {},
   "outputs": [],
   "source": [
    "    # ENCONTRAR PALABRA\n",
    "    def encontrarNoticiasdePalabra(self,palabras, diccionarioMergeado):\n",
    "\n",
    "        self.palabrasSeparadas = palabras.split()\n",
    "        if not diccionarioMergeado:\n",
    "            print(colored(\"No hay diccionario en memoria\", \"red\"))\n",
    "        else:    \n",
    "            for palabra in self.palabrasSeparadas:\n",
    "                \n",
    "                self.listaDeNoticiasID = []\n",
    "                self.listaDeNoticias = []\n",
    "                self.listaDeDiccionarioDocID = self.recuperarListaDeIndiceDocID()\n",
    "                self.listaDeDiccionarioTermID = self.recuperarListaDeIndiceTermID()\n",
    "                self.listaDeDiccionarioDoc = self.recuperarListaDeIndiceDoc()\n",
    "                self.palabraStemmeada = self.stemmer.stem(palabra.lower())\n",
    "                for numeroTermID,termino in self.listaDeDiccionarioTermID.items():\n",
    "                    if termino == self.palabraStemmeada:         \n",
    "                        if numeroTermID in diccionarioMergeado:\n",
    "                            self.listaDeNoticiasID.append(self.obtenerDocsIdsConTupla(diccionarioMergeado[numeroTermID]))\n",
    "                if len(self.listaDeNoticiasID) == 0:\n",
    "                    print(colored(\"\\n---------------------La palabra '\"+palabra+\"' no se encuentra en ninguna noticia---------------------\", 'red'))\n",
    "                else:\n",
    "                    print(colored(\"\\n ---------------------  Las noticias relacionadas con '\"+palabra+\"' son:  ---------------------\",'green'))\n",
    "                for arrayNoticiaID in self.listaDeNoticiasID:\n",
    "                    for noticiaID in arrayNoticiaID:\n",
    "                        for numeroDocID,noticia in self.listaDeDiccionarioDocID.items():\n",
    "                            if noticiaID == numeroDocID:\n",
    "                                for doc in self.listaDeDiccionarioDoc:\n",
    "                                    \n",
    "                                    if self.listaDeDiccionarioDoc[doc] == noticia:\n",
    "                                        self.listaDeNoticias.append(doc)\n",
    "                                        print(\"\\n\",doc)"
   ]
  },
  {
   "cell_type": "markdown",
   "metadata": {},
   "source": [
    "Luego optamos por crear un menu el cual se encarga de relacionarse con las clases previamente nombradas a fin de obtener una experiencia de usuario ideal."
   ]
  },
  {
   "cell_type": "markdown",
   "metadata": {},
   "source": [
    "Para comprimir la lista de apariciones en bytearray y almacenar los diccionarios en disco usamos los metodos:"
   ]
  },
  {
   "cell_type": "code",
   "execution_count": null,
   "metadata": {},
   "outputs": [],
   "source": [
    "    # ENCODEA DICCIONARIO INVERTIDO\n",
    "def encodearDocs(self,dicInv):\n",
    "    self.dicNuevo={}\n",
    "    for key in dicInv:\n",
    "        self.byteArray = UncompressedPostings.encode(dicInv[key])\n",
    "        self.dicNuevo[key] = self.byteArray \n",
    "    return self.dicNuevo  \n",
    "\n",
    "    # DECODEA DICCIONARIO ENCODEADO\n",
    "def decodearDocs(self,dicInvEncodeado):\n",
    "    self.dicNuevo={}\n",
    "    for key in dicInvEncodeado: \n",
    "        self.value = UncompressedPostings.decode(dicInvEncodeado[key])\n",
    "        self.dicNuevo[key]=self.value\n",
    "    return self.dicNuevo    "
   ]
  },
  {
   "cell_type": "markdown",
   "metadata": {},
   "source": [
    "Para comprimir la lista de documentos en memoria, representandolos como bytes, usamos los siguientes metodos:"
   ]
  },
  {
   "cell_type": "code",
   "execution_count": 1,
   "metadata": {},
   "outputs": [],
   "source": [
    "    def encodearNumero(self,num):\n",
    "        self.byteArray = []\n",
    "        while True:\n",
    "            self.byteArray.insert(0, num % 128)\n",
    "            if num < 128:\n",
    "                break\n",
    "            num = num // 128\n",
    "        self.byteArray[-1] += 128\n",
    "        return pack('%dB' % len(self.byteArray), *self.byteArray)"
   ]
  },
  {
   "cell_type": "code",
   "execution_count": 2,
   "metadata": {},
   "outputs": [],
   "source": [
    "    def encodear(self,nums):\n",
    "        byteArray = []\n",
    "        for num in nums:\n",
    "            byteArray.append(self.encodearNumero(num))\n",
    "        return b\"\".join(byteArray)"
   ]
  },
  {
   "cell_type": "code",
   "execution_count": 3,
   "metadata": {},
   "outputs": [],
   "source": [
    "    def decodear(self,byteArray):\n",
    "        self.n = 0\n",
    "        self.nums = []\n",
    "        byteArray = unpack('%dB' % len(byteArray), byteArray)\n",
    "        for byte in byteArray:\n",
    "            if byte < 128:\n",
    "                self.n = 128 * self.n + byte\n",
    "            else:\n",
    "                self.n = 128 * self.n + (byte - 128)\n",
    "                self.nums.append(self.n)\n",
    "                self.n = 0\n",
    "        return self.nums"
   ]
  },
  {
   "cell_type": "markdown",
   "metadata": {},
   "source": [
    "Diagrama UML:"
   ]
  },
  {
   "cell_type": "markdown",
   "metadata": {},
   "source": [
    "![title](uml.png)"
   ]
  },
  {
   "cell_type": "markdown",
   "metadata": {},
   "source": [
    "Al invertir los bloques observamos que Cronica tarda mucho mas que el resto debido a que en la descripcion de las noticias hay una gran cantidad de texto, y por lo tanto una gran cantidad de palabras a procesar. Luego el resto de diarios tiene una duracion similar. Este algoritmo es muy eficaz en volumenes normales de informacion, pero cuando los bloques a analizar son muchos y tienen un tamaño muy grande se vuelve obsoleto, por lo que es mejor optar por otras alternativas. La busqueda de noticias se efectua al instante y con un tiempo de respuesta muy bajo, lo que significa una buena señal."
   ]
  },
  {
   "cell_type": "code",
   "execution_count": null,
   "metadata": {},
   "outputs": [],
   "source": []
  }
 ],
 "metadata": {
  "kernelspec": {
   "display_name": "Python 3",
   "language": "python",
   "name": "python3"
  },
  "language_info": {
   "codemirror_mode": {
    "name": "ipython",
    "version": 3
   },
   "file_extension": ".py",
   "mimetype": "text/x-python",
   "name": "python",
   "nbconvert_exporter": "python",
   "pygments_lexer": "ipython3",
   "version": "3.7.3"
  }
 },
 "nbformat": 4,
 "nbformat_minor": 2
}
